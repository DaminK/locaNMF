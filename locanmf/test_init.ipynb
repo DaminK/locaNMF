{
 "cells": [
  {
   "cell_type": "code",
   "execution_count": 1,
   "metadata": {},
   "outputs": [],
   "source": [
    "import numpy as np\n",
    "import copy\n",
    "import matplotlib\n",
    "import matplotlib.pyplot as plt\n",
    "from scipy.sparse import lil_matrix\n",
    "from cnmf_e import init_ring_model, init_neurons_ding, update_ring_model_w"
   ]
  },
  {
   "cell_type": "code",
   "execution_count": 2,
   "metadata": {},
   "outputs": [],
   "source": [
    "from builtins import zip\n",
    "from builtins import str\n",
    "from builtins import map\n",
    "from builtins import range\n",
    "from past.utils import old_div\n",
    "\n",
    "import cv2\n",
    "import glob\n",
    "import matplotlib.pyplot as plt\n",
    "import numpy as np\n",
    "import os\n",
    "import psutil\n",
    "import scipy\n",
    "from skimage.external.tifffile import TiffFile\n",
    "import sys\n",
    "import time\n",
    "import logging\n",
    "\n",
    "try:\n",
    "    cv2.setNumThreads(0)\n",
    "except:\n",
    "    pass\n",
    "\n",
    "try:\n",
    "    if __IPYTHON__:\n",
    "        get_ipython().magic('load_ext autoreload')\n",
    "        get_ipython().magic('autoreload 2')\n",
    "except NameError:\n",
    "    pass\n",
    "\n",
    "import caiman"
   ]
  },
  {
   "cell_type": "markdown",
   "metadata": {},
   "source": [
    "## load preprocessed data"
   ]
  },
  {
   "cell_type": "code",
   "execution_count": 3,
   "metadata": {},
   "outputs": [
    {
     "name": "stdout",
     "output_type": "stream",
     "text": [
      "['arr_0', 'arr_1', 'arr_2', 'arr_3', 'arr_4']\n",
      "252 304 13 2000\n"
     ]
    }
   ],
   "source": [
    "data = np.load(\"cnmfe_init_output.npz\")\n",
    "print(data.files)\n",
    "U = data['arr_0']\n",
    "V = data['arr_1']\n",
    "A = data['arr_2']\n",
    "X = data['arr_3']\n",
    "d1, d2, T, r = data['arr_4']\n",
    "print(d1, d2, r, T)"
   ]
  },
  {
   "cell_type": "markdown",
   "metadata": {},
   "source": [
    "## Verify init_ring_model()"
   ]
  },
  {
   "cell_type": "code",
   "execution_count": 4,
   "metadata": {},
   "outputs": [
    {
     "name": "stdout",
     "output_type": "stream",
     "text": [
      "(76608, 50) (50, 2000) (76608, 200) (200, 50)\n",
      "(76608, 50) (76608, 76608)\n"
     ]
    }
   ],
   "source": [
    "print(U.shape, V.shape, A.shape, X.shape)\n",
    "U_ax, W = init_ring_model(U, d1, d2, r)\n",
    "print(U_ax.shape, W.shape)"
   ]
  },
  {
   "cell_type": "code",
   "execution_count": 5,
   "metadata": {},
   "outputs": [],
   "source": [
    "# cor = [0] * 50\n",
    "# for i in range(50):\n",
    "#     cor[i] = np.inner(U[:,i], U_ax[:, i]) / np.linalg.norm(U[:, i]) / np.linalg.norm(U_ax[:, i])"
   ]
  },
  {
   "cell_type": "code",
   "execution_count": 6,
   "metadata": {},
   "outputs": [
    {
     "name": "stdout",
     "output_type": "stream",
     "text": [
      "(252, 304, 2000)\n"
     ]
    }
   ],
   "source": [
    "video_bef = np.matmul(U, V).reshape(252, 304, -1)\n",
    "print(video_bef.shape)"
   ]
  },
  {
   "cell_type": "code",
   "execution_count": 7,
   "metadata": {},
   "outputs": [],
   "source": [
    "video_bef = video_bef - np.amin(video_bef)"
   ]
  },
  {
   "cell_type": "code",
   "execution_count": 8,
   "metadata": {},
   "outputs": [
    {
     "data": {
      "text/plain": [
       "0.0"
      ]
     },
     "execution_count": 8,
     "metadata": {},
     "output_type": "execute_result"
    }
   ],
   "source": [
    "np.min(video_bef)"
   ]
  },
  {
   "cell_type": "code",
   "execution_count": 9,
   "metadata": {},
   "outputs": [],
   "source": [
    "B = W.dot(U - U_ax)\n",
    "video_after = np.matmul(U - B, V).reshape(252, 304, 2000)"
   ]
  },
  {
   "cell_type": "code",
   "execution_count": 10,
   "metadata": {},
   "outputs": [],
   "source": [
    "np.savez('init_background.npz', U=U, V=V, U_a=(U-B))"
   ]
  },
  {
   "cell_type": "code",
   "execution_count": 11,
   "metadata": {},
   "outputs": [
    {
     "data": {
      "text/plain": [
       "-133.7442399514418"
      ]
     },
     "execution_count": 11,
     "metadata": {},
     "output_type": "execute_result"
    }
   ],
   "source": [
    "np.amin(video_after)"
   ]
  },
  {
   "cell_type": "code",
   "execution_count": 12,
   "metadata": {},
   "outputs": [],
   "source": [
    "movie_bef = caiman.movie(video_bef.transpose((2,0,1)))"
   ]
  },
  {
   "cell_type": "code",
   "execution_count": 13,
   "metadata": {},
   "outputs": [],
   "source": [
    "movie_bef.play(q_max=99.5, fr=30, magnification=4) "
   ]
  },
  {
   "cell_type": "code",
   "execution_count": 14,
   "metadata": {},
   "outputs": [],
   "source": [
    "movie_after = caiman.movie(video_after.transpose(2,0,1))"
   ]
  },
  {
   "cell_type": "code",
   "execution_count": 15,
   "metadata": {},
   "outputs": [],
   "source": [
    "movie_after.play(q_max=99.5, fr=30, magnification=4)"
   ]
  },
  {
   "cell_type": "code",
   "execution_count": 16,
   "metadata": {},
   "outputs": [],
   "source": [
    "# for i in range(1000, 1003):\n",
    "#     row = video_bef[:, :, i]\n",
    "#     im=plt.imshow(row)\n",
    "#     im.set_data(row)\n",
    "#     plt.pause(0.02)\n",
    "# plt.show()"
   ]
  },
  {
   "cell_type": "code",
   "execution_count": 17,
   "metadata": {},
   "outputs": [],
   "source": [
    "# for i in range(1000, 1003):\n",
    "#     row = video_after[:, :, i]\n",
    "#     im=plt.imshow(row)\n",
    "#     im.set_data(row)\n",
    "#     plt.pause(0.02)\n",
    "# #     plt.colorbar()\n",
    "# plt.show()"
   ]
  },
  {
   "cell_type": "markdown",
   "metadata": {},
   "source": [
    "## Verify init_neurons_ding() fcn\n",
    "output a, x, c directly"
   ]
  },
  {
   "cell_type": "code",
   "execution_count": 18,
   "metadata": {},
   "outputs": [
    {
     "name": "stdout",
     "output_type": "stream",
     "text": [
      "(76608, 50) (76608, 50) (50, 2000) 252 304\n"
     ]
    }
   ],
   "source": [
    "print(U.shape, U_ax.shape, V.shape, d1, d2)"
   ]
  },
  {
   "cell_type": "code",
   "execution_count": 20,
   "metadata": {},
   "outputs": [
    {
     "name": "stdout",
     "output_type": "stream",
     "text": [
      "start 1 pass!\n",
      "find superpixels!\n",
      "time: 3.87203049659729\n",
      "rank 1 svd!\n",
      "time: 5.480708360671997\n",
      "find pure superpixels!\n",
      "time: 1.527012586593628\n",
      "prepare iteration!\n",
      "0.6931140422821045\n",
      "time: 6.613901853561401\n"
     ]
    }
   ],
   "source": [
    "P1 = np.reshape(U - W.dot(U - U_ax), (d1, d2, -1))\n",
    "P1 = np.reshape(P1, (d1*d2, -1), order='F') # init_neurons() use F order\n",
    "P2 = np.transpose(V)\n",
    "P0 = np.reshape(np.matmul(U - W.dot(U - U_ax), V), (d1, d2, T), order='C')\n",
    "A_ding, X_ding, C_ding = init_neurons_ding(P0, P1, P2, d1, d2, cut_off_point=[0.95, 0.95], length_cut=[10, 10], th=[2, 1], pass_num=1,\n",
    "                      residual_cut=[0.6, 0.6])"
   ]
  },
  {
   "cell_type": "code",
   "execution_count": 21,
   "metadata": {},
   "outputs": [
    {
     "name": "stdout",
     "output_type": "stream",
     "text": [
      "(76608, 223) (223, 50) (223, 2000)\n"
     ]
    }
   ],
   "source": [
    "# A_ding = np.reshape(A_ding, (d1, d2, -1), order='F')\n",
    "# A_ding = np.reshape(A_ding, (d1*d2, -1))\n",
    "print(A_ding.shape, X_ding.shape, C_ding.shape)"
   ]
  },
  {
   "cell_type": "code",
   "execution_count": 22,
   "metadata": {},
   "outputs": [
    {
     "name": "stdout",
     "output_type": "stream",
     "text": [
      "(252, 304, 2000)\n"
     ]
    }
   ],
   "source": [
    "video_ding = np.matmul(A_ding, C_ding)\n",
    "video_ding = np.reshape(video_ding, (d1, d2, -1))\n",
    "print(video_ding.shape)"
   ]
  },
  {
   "cell_type": "code",
   "execution_count": 23,
   "metadata": {},
   "outputs": [
    {
     "data": {
      "text/plain": [
       "96.06496588311552"
      ]
     },
     "execution_count": 23,
     "metadata": {},
     "output_type": "execute_result"
    }
   ],
   "source": [
    "np.amax(video_ding)"
   ]
  },
  {
   "cell_type": "code",
   "execution_count": 24,
   "metadata": {},
   "outputs": [],
   "source": [
    "movie_ding = caiman.movie(video_ding.transpose((2,0,1)))"
   ]
  },
  {
   "cell_type": "code",
   "execution_count": 25,
   "metadata": {},
   "outputs": [],
   "source": [
    "movie_ding.play(q_max=99.5, fr=30, magnification=4)"
   ]
  },
  {
   "cell_type": "code",
   "execution_count": 26,
   "metadata": {},
   "outputs": [],
   "source": [
    "# for i in range(1000, 1003):\n",
    "#     row = video_ding[:, :, i]\n",
    "#     im=plt.imshow(row)\n",
    "#     im.set_data(row)\n",
    "#     plt.pause(0.02)\n",
    "# #     plt.colorbar()\n",
    "# plt.show()"
   ]
  },
  {
   "cell_type": "code",
   "execution_count": 27,
   "metadata": {},
   "outputs": [
    {
     "name": "stdout",
     "output_type": "stream",
     "text": [
      "(252, 304, 2000)\n"
     ]
    }
   ],
   "source": [
    "video_ding2 = np.matmul(np.matmul(A_ding, X_ding), V)\n",
    "video_ding2 = np.reshape(video_ding2, (d1, d2, -1))\n",
    "print(video_ding2.shape)"
   ]
  },
  {
   "cell_type": "code",
   "execution_count": 28,
   "metadata": {},
   "outputs": [],
   "source": [
    "movie_ding2 = caiman.movie(video_ding2.transpose((2,0,1)))"
   ]
  },
  {
   "cell_type": "code",
   "execution_count": 29,
   "metadata": {},
   "outputs": [],
   "source": [
    "movie_ding2.play(q_max=99.5, fr=30, magnification=4)"
   ]
  },
  {
   "cell_type": "code",
   "execution_count": 30,
   "metadata": {},
   "outputs": [],
   "source": [
    "# plt.imshow(A_ding[:,10].reshape(d1,d2, order=\"F\"))"
   ]
  },
  {
   "cell_type": "code",
   "execution_count": 31,
   "metadata": {},
   "outputs": [
    {
     "name": "stdout",
     "output_type": "stream",
     "text": [
      "(76608, 50) (76608, 223) (223, 50) (223, 2000) (50, 2000)\n"
     ]
    }
   ],
   "source": [
    "print(U.shape, A_ding.shape, X_ding.shape, C_ding.shape, V.shape)"
   ]
  },
  {
   "cell_type": "code",
   "execution_count": 32,
   "metadata": {},
   "outputs": [
    {
     "name": "stdout",
     "output_type": "stream",
     "text": [
      "(76608, 200)\n"
     ]
    }
   ],
   "source": [
    "print(A.shape)"
   ]
  },
  {
   "cell_type": "code",
   "execution_count": 33,
   "metadata": {},
   "outputs": [
    {
     "name": "stdout",
     "output_type": "stream",
     "text": [
      "(200, 2000) (223, 2000)\n"
     ]
    }
   ],
   "source": [
    "C = np.matmul(X, V)\n",
    "C2_ding = np.matmul(X_ding, V)\n",
    "print(C.shape, C2_ding.shape)"
   ]
  },
  {
   "cell_type": "code",
   "execution_count": 34,
   "metadata": {},
   "outputs": [],
   "source": [
    "corr_A, corr_C, idx = [], [], []\n",
    "for i in range(A.shape[1]):\n",
    "    maxCorr, maxCorrIdx = 0.0, -1\n",
    "    A_norm = np.linalg.norm(A[:,i])\n",
    "    C_norm = np.linalg.norm(C[i,:])\n",
    "    for j in range(A_ding.shape[1]):\n",
    "        corr = np.inner(A[:,i], A_ding[:,j]) / A_norm / np.linalg.norm(A_ding[:,j])\n",
    "        corr = corr * np.inner(C[i,:], C2_ding[j,:]) / C_norm / np.linalg.norm(C2_ding[j,:])\n",
    "        if corr > maxCorr:\n",
    "            maxCorr = corr\n",
    "            maxCorrIdx = j\n",
    "    corr_A.append(np.inner(A[:,i], A_ding[:,maxCorrIdx]) / A_norm / np.linalg.norm(A_ding[:,maxCorrIdx]))\n",
    "    corr_C.append(np.inner(C[i,:], C2_ding[maxCorrIdx,:]) / C_norm / np.linalg.norm(C2_ding[maxCorrIdx,:]))\n",
    "    idx.append(maxCorrIdx)\n"
   ]
  },
  {
   "cell_type": "code",
   "execution_count": 35,
   "metadata": {},
   "outputs": [
    {
     "data": {
      "image/png": "[encoded data removed]",
      "text/plain": [
       "<Figure size 432x288 with 1 Axes>"
      ]
     },
     "metadata": {
      "needs_background": "light"
     },
     "output_type": "display_data"
    }
   ],
   "source": [
    "import matplotlib.pyplot as plt\n",
    "plt.plot(corr_A, corr_C, 'ro')\n",
    "plt.axis([0, 1, 0, 1])\n",
    "plt.show()"
   ]
  },
  {
   "cell_type": "code",
   "execution_count": null,
   "metadata": {},
   "outputs": [],
   "source": []
  },
  {
   "cell_type": "code",
   "execution_count": null,
   "metadata": {},
   "outputs": [],
   "source": []
  },
  {
   "cell_type": "code",
   "execution_count": null,
   "metadata": {},
   "outputs": [],
   "source": []
  }
 ],
 "metadata": {
  "kernelspec": {
   "display_name": "Python 3",
   "language": "python",
   "name": "python3"
  },
  "language_info": {
   "codemirror_mode": {
    "name": "ipython",
    "version": 3
   },
   "file_extension": ".py",
   "mimetype": "text/x-python",
   "name": "python",
   "nbconvert_exporter": "python",
   "pygments_lexer": "ipython3",
   "version": "3.6.9"
  }
 },
 "nbformat": 4,
 "nbformat_minor": 2
}
