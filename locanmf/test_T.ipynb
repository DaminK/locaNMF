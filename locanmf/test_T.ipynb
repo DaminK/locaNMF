{
 "cells": [
  {
   "cell_type": "code",
   "execution_count": 1,
   "metadata": {},
   "outputs": [],
   "source": [
    "import numpy as np\n",
    "import copy\n",
    "import matplotlib.pyplot as plt\n",
    "from scipy.sparse import lil_matrix\n",
    "from cnmf_e import update_ring_model_w, update_temporal, update_spatial"
   ]
  },
  {
   "cell_type": "code",
   "execution_count": 2,
   "metadata": {},
   "outputs": [],
   "source": [
    "# data = np.load(\"cnmfe_update_ring_output.npz\")\n",
    "# print(data.files)"
   ]
  },
  {
   "cell_type": "code",
   "execution_count": 3,
   "metadata": {},
   "outputs": [],
   "source": [
    "# U = data['U']\n",
    "# V = data['V']\n",
    "# A = data['A']\n",
    "# X = data['X']\n",
    "# W = data['W'] # can NOT load W since W is sparse matrix\n",
    "# d1 = data['d1']\n",
    "# d2 = data['d2']\n",
    "# T = data['T']\n",
    "# b0 = data['b0']"
   ]
  },
  {
   "cell_type": "code",
   "execution_count": 4,
   "metadata": {},
   "outputs": [],
   "source": [
    "data = np.load(\"cnmfe_init_output.npz\")\n",
    "# print(data.files)\n",
    "d1, d2, T, r = data['arr_4']\n",
    "# print(d1, d2, r, T)\n",
    "U = data['arr_0']\n",
    "V = data['arr_1']\n",
    "A = data['arr_2']\n",
    "X = data['arr_3']"
   ]
  },
  {
   "cell_type": "code",
   "execution_count": 5,
   "metadata": {},
   "outputs": [
    {
     "name": "stdout",
     "output_type": "stream",
     "text": [
      "(76608, 50) (50, 2000) (76608, 200) (200, 50)\n",
      "(76608,) (76608, 76608)\n"
     ]
    }
   ],
   "source": [
    "print(U.shape, V.shape, A.shape, X.shape)\n",
    "b0, W = update_ring_model_w(U, V, A, X, [], d1, d2, T, r)\n",
    "print(b0.shape, W.shape)"
   ]
  },
  {
   "cell_type": "code",
   "execution_count": 6,
   "metadata": {},
   "outputs": [],
   "source": [
    "C0 = np.matmul(X, V)"
   ]
  },
  {
   "cell_type": "code",
   "execution_count": 7,
   "metadata": {},
   "outputs": [
    {
     "data": {
      "text/plain": [
       "(200, 2000)"
      ]
     },
     "execution_count": 7,
     "metadata": {},
     "output_type": "execute_result"
    }
   ],
   "source": [
    "C0.shape"
   ]
  },
  {
   "cell_type": "code",
   "execution_count": 8,
   "metadata": {},
   "outputs": [],
   "source": [
    "b0_T = update_temporal(U, V, A, X, W, d1, d2, T, iter=5)"
   ]
  },
  {
   "cell_type": "code",
   "execution_count": 9,
   "metadata": {},
   "outputs": [],
   "source": [
    "C1 = np.matmul(X, V)"
   ]
  },
  {
   "cell_type": "code",
   "execution_count": 10,
   "metadata": {},
   "outputs": [
    {
     "data": {
      "text/plain": [
       "(200, 2000)"
      ]
     },
     "execution_count": 10,
     "metadata": {},
     "output_type": "execute_result"
    }
   ],
   "source": [
    "C1.shape"
   ]
  },
  {
   "cell_type": "code",
   "execution_count": 11,
   "metadata": {},
   "outputs": [],
   "source": [
    "k, _ = C1.shape\n",
    "corr = []\n",
    "for j in range(k):\n",
    "    c01 = np.inner(C0[j, :], C1[j, :]) / np.linalg.norm(C0[j, :]) / np.linalg.norm(C1[j, :])\n",
    "    corr.append(c01)"
   ]
  },
  {
   "cell_type": "code",
   "execution_count": 12,
   "metadata": {},
   "outputs": [
    {
     "data": {
      "text/plain": [
       "(array([  1.,   0.,   0.,   0.,   0.,   1.,   0.,   0.,   0., 198.]),\n",
       " array([1., 1., 1., 1., 1., 1., 1., 1., 1., 1., 1.]),\n",
       " <a list of 10 Patch objects>)"
      ]
     },
     "execution_count": 12,
     "metadata": {},
     "output_type": "execute_result"
    },
    {
     "data": {
      "image/png": "[encoded data removed]",
      "text/plain": [
       "<Figure size 432x288 with 1 Axes>"
      ]
     },
     "metadata": {
      "needs_background": "light"
     },
     "output_type": "display_data"
    }
   ],
   "source": [
    "plt.hist(corr)"
   ]
  },
  {
   "cell_type": "code",
   "execution_count": 20,
   "metadata": {},
   "outputs": [
    {
     "data": {
      "text/plain": [
       "[1.0,\n",
       " 0.9999999999999997,\n",
       " 0.9999999999999998,\n",
       " 1.0,\n",
       " 1.0000000000000002,\n",
       " 0.9999999999999997,\n",
       " 1.0,\n",
       " 1.0000000000000002,\n",
       " 0.9999999999999997,\n",
       " 1.0,\n",
       " 1.0,\n",
       " 1.0,\n",
       " 1.0000000000000002,\n",
       " 1.0,\n",
       " 1.0,\n",
       " 1.0,\n",
       " 1.0000000000000002,\n",
       " 1.0,\n",
       " 1.0,\n",
       " 1.0,\n",
       " 0.9999999999999983,\n",
       " 1.0000000000000002,\n",
       " 0.999999999999999,\n",
       " 1.0,\n",
       " 1.0,\n",
       " 1.0000000000000002,\n",
       " 0.9999999999999998,\n",
       " 0.9999999999999999,\n",
       " 0.9999999999999993,\n",
       " 1.0,\n",
       " 0.9999999999999997,\n",
       " 1.0,\n",
       " 0.9999999999999998,\n",
       " 0.9999999999999996,\n",
       " 0.9999999999999998,\n",
       " 0.9999999999999999,\n",
       " 1.0000000000000002,\n",
       " 1.0000000000000002,\n",
       " 0.9999999999999998,\n",
       " 0.9999999999999998,\n",
       " 1.0000000000000004,\n",
       " 1.0,\n",
       " 0.9999999999999992,\n",
       " 0.999999999999998,\n",
       " 1.0,\n",
       " 0.9999999999999998,\n",
       " 1.0,\n",
       " 0.9999999999999044,\n",
       " 0.9999999999999999,\n",
       " 1.0,\n",
       " 1.0000000000000002,\n",
       " 0.9999999999999999,\n",
       " 0.9999999999891632,\n",
       " 1.0,\n",
       " 0.9999999999999998,\n",
       " 0.9999999999999996,\n",
       " 1.0,\n",
       " 1.0,\n",
       " 1.0,\n",
       " 1.0000000000000002,\n",
       " 1.0,\n",
       " 1.0,\n",
       " 0.9999999999999998,\n",
       " 1.0000000000000002,\n",
       " 1.0,\n",
       " 0.9999999999999998,\n",
       " 0.9999999999999998,\n",
       " 1.0,\n",
       " 1.0,\n",
       " 1.0,\n",
       " 1.0,\n",
       " 0.9999999999999996,\n",
       " 1.0,\n",
       " 0.9999999999999998,\n",
       " 0.9999999999999996,\n",
       " 1.0000000000000002,\n",
       " 1.0,\n",
       " 0.9999999999999998,\n",
       " 1.0,\n",
       " 0.9999999999999998,\n",
       " 1.0000000000000002,\n",
       " 0.999999999999989,\n",
       " 1.0,\n",
       " 1.0,\n",
       " 1.0000000000000002,\n",
       " 1.0,\n",
       " 0.9999999999999998,\n",
       " 1.0,\n",
       " 1.0,\n",
       " 0.9999999999999998,\n",
       " 1.0,\n",
       " 1.0,\n",
       " 1.0,\n",
       " 0.9999999999999998,\n",
       " 1.0,\n",
       " 0.9999999999999977,\n",
       " 1.0,\n",
       " 1.0,\n",
       " 0.9999999999999998,\n",
       " 1.0000000000000002,\n",
       " 1.0,\n",
       " 1.0,\n",
       " 1.0,\n",
       " 0.9999999999759049,\n",
       " 0.9999999999999998,\n",
       " 0.9999999999999996,\n",
       " 1.0000000000000002,\n",
       " 0.9999999999999998,\n",
       " 0.9999999999986274,\n",
       " 0.9999999999999032,\n",
       " 1.0,\n",
       " 1.0,\n",
       " 1.0,\n",
       " 1.0,\n",
       " 1.0,\n",
       " 1.0000000000000002,\n",
       " 0.9999999999999998,\n",
       " 1.0,\n",
       " 1.0,\n",
       " 0.9999999999999998,\n",
       " 1.0000000000000004,\n",
       " 1.0000000000000002,\n",
       " 0.9999999999999996,\n",
       " 1.0000000000000002,\n",
       " 1.0,\n",
       " 0.9999999999999998,\n",
       " 1.0,\n",
       " 1.0,\n",
       " 1.0,\n",
       " 1.0,\n",
       " 1.0,\n",
       " 0.9999999999999998,\n",
       " 0.999999999999991,\n",
       " 1.0000000000000002,\n",
       " 1.0,\n",
       " 0.9999999999999998,\n",
       " 0.9999999999999998,\n",
       " 1.0,\n",
       " 1.0,\n",
       " 0.9999999999999998,\n",
       " 1.0,\n",
       " 0.9999999999999998,\n",
       " 0.9999999999999998,\n",
       " 0.9999999999999998,\n",
       " 1.0,\n",
       " 0.9999999999999998,\n",
       " 0.9999999999999999,\n",
       " 1.0,\n",
       " 0.9999999999999998,\n",
       " 1.0000000000000002,\n",
       " 0.9999999999999998,\n",
       " 1.0,\n",
       " 1.0000000000000002,\n",
       " 0.9999999999999997,\n",
       " 1.0,\n",
       " 1.0000000000000002,\n",
       " 1.0000000000000002,\n",
       " 0.9999999999999998,\n",
       " 1.0,\n",
       " 1.0000000000000002,\n",
       " 1.0,\n",
       " 0.9999999999991135,\n",
       " 0.9999999999999999,\n",
       " 0.9999999999999998,\n",
       " 1.0,\n",
       " 0.9999999999999998,\n",
       " 0.9999999999999997,\n",
       " 0.9999999999999998,\n",
       " 1.0,\n",
       " 0.9999999999999998,\n",
       " 1.0,\n",
       " 0.9999999999999998,\n",
       " 0.9999999999999784,\n",
       " 0.9999999999999998,\n",
       " 0.9999999999999969,\n",
       " 1.0000000000000002,\n",
       " 1.0,\n",
       " 1.0,\n",
       " 0.9999999999999998,\n",
       " 0.9999999999999998,\n",
       " 0.9999999999999998,\n",
       " 1.0000000000000004,\n",
       " 1.0,\n",
       " 1.0000000000000002,\n",
       " 1.0,\n",
       " 1.0,\n",
       " 1.0,\n",
       " 1.0000000000000002,\n",
       " 1.0,\n",
       " 1.0,\n",
       " 1.0,\n",
       " 1.0000000000000002,\n",
       " 0.9999999999999997,\n",
       " 1.0000000000000002,\n",
       " 0.9999999999999998,\n",
       " 0.9999999999999998,\n",
       " 1.0,\n",
       " 1.0,\n",
       " 0.9999999999999998,\n",
       " 0.9999999999999998]"
      ]
     },
     "execution_count": 20,
     "metadata": {},
     "output_type": "execute_result"
    }
   ],
   "source": [
    "corr"
   ]
  },
  {
   "cell_type": "code",
   "execution_count": 13,
   "metadata": {},
   "outputs": [],
   "source": [
    "A0 = copy.deepcopy(A)"
   ]
  },
  {
   "cell_type": "code",
   "execution_count": 14,
   "metadata": {},
   "outputs": [],
   "source": [
    "b0_S = update_spatial(U, V, A, X, W, d1, d2, T, iter=5)"
   ]
  },
  {
   "cell_type": "code",
   "execution_count": 15,
   "metadata": {},
   "outputs": [],
   "source": [
    "A1 = A"
   ]
  },
  {
   "cell_type": "code",
   "execution_count": 16,
   "metadata": {},
   "outputs": [
    {
     "data": {
      "text/plain": [
       "(76608, 200)"
      ]
     },
     "execution_count": 16,
     "metadata": {},
     "output_type": "execute_result"
    }
   ],
   "source": [
    "A1.shape"
   ]
  },
  {
   "cell_type": "code",
   "execution_count": 17,
   "metadata": {},
   "outputs": [],
   "source": [
    "_, k = A.shape\n",
    "corr_A = []\n",
    "for j in range(k):\n",
    "    a01 = np.inner(A0[:, j], A1[:, j]) / np.linalg.norm(A0[:, j]) / np.linalg.norm(A1[:, j])\n",
    "    corr_A.append(a01)"
   ]
  },
  {
   "cell_type": "code",
   "execution_count": 18,
   "metadata": {},
   "outputs": [
    {
     "data": {
      "text/plain": [
       "(array([ 1.,  6.,  3., 40., 30.,  0., 66.,  0., 49.,  5.]),\n",
       " array([1., 1., 1., 1., 1., 1., 1., 1., 1., 1., 1.]),\n",
       " <a list of 10 Patch objects>)"
      ]
     },
     "execution_count": 18,
     "metadata": {},
     "output_type": "execute_result"
    },
    {
     "data": {
      "image/png": "[encoded data removed]",
      "text/plain": [
       "<Figure size 432x288 with 1 Axes>"
      ]
     },
     "metadata": {
      "needs_background": "light"
     },
     "output_type": "display_data"
    }
   ],
   "source": [
    "plt.hist(corr_A)"
   ]
  },
  {
   "cell_type": "code",
   "execution_count": 19,
   "metadata": {},
   "outputs": [
    {
     "data": {
      "text/plain": [
       "[1.0,\n",
       " 1.0,\n",
       " 0.9999999999999999,\n",
       " 0.9999999999999998,\n",
       " 0.9999999999999998,\n",
       " 1.0,\n",
       " 1.0,\n",
       " 0.9999999999999999,\n",
       " 1.0000000000000002,\n",
       " 0.9999999999999998,\n",
       " 0.9999999999999998,\n",
       " 0.9999999999999998,\n",
       " 1.0,\n",
       " 0.9999999999999998,\n",
       " 1.0,\n",
       " 0.9999999999999999,\n",
       " 0.9999999999999998,\n",
       " 1.0,\n",
       " 0.9999999999999998,\n",
       " 0.9999999999999998,\n",
       " 1.0,\n",
       " 0.9999999999999994,\n",
       " 0.9999999999999996,\n",
       " 1.0,\n",
       " 1.0,\n",
       " 0.9999999999999998,\n",
       " 0.9999999999999998,\n",
       " 1.0000000000000002,\n",
       " 1.0000000000000002,\n",
       " 1.0,\n",
       " 1.0,\n",
       " 0.9999999999999998,\n",
       " 0.9999999999999999,\n",
       " 1.0000000000000002,\n",
       " 1.0000000000000004,\n",
       " 1.0,\n",
       " 1.0,\n",
       " 1.0000000000000002,\n",
       " 0.9999999999999998,\n",
       " 0.9999999999999998,\n",
       " 1.0,\n",
       " 0.9999999999999999,\n",
       " 1.0000000000000002,\n",
       " 0.9999999999999998,\n",
       " 0.9999999999999999,\n",
       " 1.0000000000000002,\n",
       " 1.0000000000000002,\n",
       " 1.0000000000000002,\n",
       " 1.0000000000000002,\n",
       " 0.9999999999999999,\n",
       " 1.0000000000000002,\n",
       " 1.0000000000000002,\n",
       " 1.0000000000000002,\n",
       " 1.0000000000000002,\n",
       " 1.0000000000000002,\n",
       " 0.9999999999999997,\n",
       " 1.0,\n",
       " 1.0000000000000002,\n",
       " 1.0,\n",
       " 1.0,\n",
       " 1.0000000000000002,\n",
       " 0.9999999999999998,\n",
       " 0.9999999999999998,\n",
       " 0.9999999999999998,\n",
       " 0.9999999999999999,\n",
       " 1.0,\n",
       " 1.0,\n",
       " 0.9999999999999998,\n",
       " 0.9999999999999996,\n",
       " 1.0,\n",
       " 1.0000000000000002,\n",
       " 0.9999999999999999,\n",
       " 1.0000000000000002,\n",
       " 0.9999999999999998,\n",
       " 1.0,\n",
       " 0.9999999999999998,\n",
       " 1.0,\n",
       " 0.9999999999999998,\n",
       " 0.9999999999999999,\n",
       " 0.9999999999999998,\n",
       " 0.9999999999999999,\n",
       " 1.0000000000000002,\n",
       " 1.0,\n",
       " 1.0,\n",
       " 1.0,\n",
       " 1.0,\n",
       " 0.9999999999999997,\n",
       " 0.9999999999999998,\n",
       " 0.9999999999999999,\n",
       " 1.0000000000000002,\n",
       " 0.9999999999999998,\n",
       " 1.0,\n",
       " 0.9999999999999998,\n",
       " 1.0,\n",
       " 1.0,\n",
       " 1.0,\n",
       " 1.0000000000000002,\n",
       " 0.9999999999999999,\n",
       " 1.0,\n",
       " 1.0,\n",
       " 1.0,\n",
       " 0.9999999999999998,\n",
       " 0.9999999999999998,\n",
       " 1.0000000000000002,\n",
       " 1.0,\n",
       " 1.0,\n",
       " 0.9999999999999999,\n",
       " 1.0,\n",
       " 0.9999999999999998,\n",
       " 0.9999999999999999,\n",
       " 0.9999999999999997,\n",
       " 1.0000000000000002,\n",
       " 1.0000000000000002,\n",
       " 1.0000000000000002,\n",
       " 1.0,\n",
       " 0.9999999999999999,\n",
       " 1.0,\n",
       " 1.0000000000000002,\n",
       " 1.0000000000000004,\n",
       " 1.0,\n",
       " 1.0000000000000004,\n",
       " 1.0,\n",
       " 1.0,\n",
       " 1.0,\n",
       " 0.9999999999999999,\n",
       " 1.0,\n",
       " 1.0,\n",
       " 1.0000000000000002,\n",
       " 0.9999999999999999,\n",
       " 0.9999999999999998,\n",
       " 0.9999999999999998,\n",
       " 1.0000000000000002,\n",
       " 0.9999999999999999,\n",
       " 1.0000000000000002,\n",
       " 0.9999999999999996,\n",
       " 0.9999999999999996,\n",
       " 1.0000000000000002,\n",
       " 1.0,\n",
       " 0.9999999999999999,\n",
       " 1.0,\n",
       " 0.9999999999999999,\n",
       " 1.0,\n",
       " 1.0000000000000002,\n",
       " 0.9999999999999999,\n",
       " 1.0000000000000002,\n",
       " 0.9999999999999996,\n",
       " 1.0000000000000002,\n",
       " 1.0000000000000002,\n",
       " 0.9999999999999999,\n",
       " 0.9999999999999998,\n",
       " 1.0,\n",
       " 0.9999999999999999,\n",
       " 1.0,\n",
       " 1.0000000000000002,\n",
       " 0.9999999999999999,\n",
       " 1.0000000000000004,\n",
       " 0.9999999999999999,\n",
       " 1.0000000000000004,\n",
       " 1.0,\n",
       " 1.0000000000000002,\n",
       " 1.0,\n",
       " 0.9999999999999999,\n",
       " 1.0000000000000002,\n",
       " 1.0,\n",
       " 0.9999999999999999,\n",
       " 0.9999999999999998,\n",
       " 1.0000000000000002,\n",
       " 0.9999999999999998,\n",
       " 1.0,\n",
       " 1.0,\n",
       " 1.0,\n",
       " 1.0000000000000002,\n",
       " 1.0000000000000002,\n",
       " 0.9999999999999998,\n",
       " 1.0,\n",
       " 1.0,\n",
       " 1.0000000000000002,\n",
       " 0.9999999999999998,\n",
       " 0.9999999999999999,\n",
       " 1.0,\n",
       " 1.0,\n",
       " 1.0,\n",
       " 1.0000000000000002,\n",
       " 0.9999999999999996,\n",
       " 1.0,\n",
       " 1.0,\n",
       " 1.0000000000000002,\n",
       " 1.0000000000000002,\n",
       " 0.9999999999999999,\n",
       " 0.9999999999999998,\n",
       " 1.0000000000000002,\n",
       " 0.9999999999999998,\n",
       " 0.9999999999999998,\n",
       " 1.0,\n",
       " 0.9999999999999998,\n",
       " 1.0000000000000002,\n",
       " 1.0000000000000002,\n",
       " 1.0,\n",
       " 1.0000000000000002,\n",
       " 1.0]"
      ]
     },
     "execution_count": 19,
     "metadata": {},
     "output_type": "execute_result"
    }
   ],
   "source": [
    "corr_A"
   ]
  },
  {
   "cell_type": "code",
   "execution_count": 33,
   "metadata": {},
   "outputs": [],
   "source": [
    "import numpy as np\n",
    "import cv2\n",
    "from matplotlib import pyplot as plt\n",
    "\n",
    "img = cv2.imread('/home/jian/Downloads/messi5.jpg')"
   ]
  },
  {
   "cell_type": "code",
   "execution_count": 39,
   "metadata": {},
   "outputs": [],
   "source": [
    "img = np.zeros((10,10))"
   ]
  },
  {
   "cell_type": "code",
   "execution_count": 45,
   "metadata": {},
   "outputs": [],
   "source": [
    "img[:, 5] = 1"
   ]
  },
  {
   "cell_type": "code",
   "execution_count": 46,
   "metadata": {},
   "outputs": [
    {
     "data": {
      "text/plain": [
       "array([[0., 0., 0., 0., 0., 1., 0., 0., 0., 0.],\n",
       "       [0., 0., 0., 0., 0., 1., 0., 0., 0., 0.],\n",
       "       [0., 0., 0., 0., 0., 1., 0., 0., 0., 0.],\n",
       "       [0., 0., 0., 0., 0., 1., 0., 0., 0., 0.],\n",
       "       [0., 0., 0., 0., 0., 1., 0., 0., 0., 0.],\n",
       "       [0., 0., 0., 0., 0., 1., 0., 0., 0., 0.],\n",
       "       [0., 0., 0., 0., 0., 1., 0., 0., 0., 0.],\n",
       "       [0., 0., 0., 0., 0., 1., 0., 0., 0., 0.],\n",
       "       [0., 0., 0., 0., 0., 1., 0., 0., 0., 0.],\n",
       "       [0., 0., 0., 0., 0., 1., 0., 0., 0., 0.]])"
      ]
     },
     "execution_count": 46,
     "metadata": {},
     "output_type": "execute_result"
    }
   ],
   "source": [
    "img"
   ]
  },
  {
   "cell_type": "code",
   "execution_count": 47,
   "metadata": {},
   "outputs": [],
   "source": [
    "kernel = np.ones((3, 3), np.uint8)"
   ]
  },
  {
   "cell_type": "code",
   "execution_count": 48,
   "metadata": {},
   "outputs": [
    {
     "data": {
      "text/plain": [
       "array([[1, 1, 1],\n",
       "       [1, 1, 1],\n",
       "       [1, 1, 1]], dtype=uint8)"
      ]
     },
     "execution_count": 48,
     "metadata": {},
     "output_type": "execute_result"
    }
   ],
   "source": [
    "kernel"
   ]
  },
  {
   "cell_type": "code",
   "execution_count": 49,
   "metadata": {},
   "outputs": [],
   "source": [
    "img_dilated = cv2.dilate(img, kernel=kernel, iterations=1)"
   ]
  },
  {
   "cell_type": "code",
   "execution_count": 50,
   "metadata": {},
   "outputs": [
    {
     "data": {
      "text/plain": [
       "array([[0., 0., 0., 0., 1., 1., 1., 0., 0., 0.],\n",
       "       [0., 0., 0., 0., 1., 1., 1., 0., 0., 0.],\n",
       "       [0., 0., 0., 0., 1., 1., 1., 0., 0., 0.],\n",
       "       [0., 0., 0., 0., 1., 1., 1., 0., 0., 0.],\n",
       "       [0., 0., 0., 0., 1., 1., 1., 0., 0., 0.],\n",
       "       [0., 0., 0., 0., 1., 1., 1., 0., 0., 0.],\n",
       "       [0., 0., 0., 0., 1., 1., 1., 0., 0., 0.],\n",
       "       [0., 0., 0., 0., 1., 1., 1., 0., 0., 0.],\n",
       "       [0., 0., 0., 0., 1., 1., 1., 0., 0., 0.],\n",
       "       [0., 0., 0., 0., 1., 1., 1., 0., 0., 0.]])"
      ]
     },
     "execution_count": 50,
     "metadata": {},
     "output_type": "execute_result"
    }
   ],
   "source": [
    "img_dilated"
   ]
  },
  {
   "cell_type": "code",
   "execution_count": null,
   "metadata": {},
   "outputs": [],
   "source": []
  }
 ],
 "metadata": {
  "kernelspec": {
   "display_name": "Python 3",
   "language": "python",
   "name": "python3"
  },
  "language_info": {
   "codemirror_mode": {
    "name": "ipython",
    "version": 3
   },
   "file_extension": ".py",
   "mimetype": "text/x-python",
   "name": "python",
   "nbconvert_exporter": "python",
   "pygments_lexer": "ipython3",
   "version": "3.6.8"
  }
 },
 "nbformat": 4,
 "nbformat_minor": 2
}
